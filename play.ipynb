{
 "cells": [
  {
   "cell_type": "code",
   "execution_count": null,
   "metadata": {},
   "outputs": [],
   "source": [
    "#pip install cinemagoer\n",
    "#https://cinemagoer.readthedocs.io/en/latest/usage/quickstart.html\n",
    "import random\n",
    "from imdb import Cinemagoer\n",
    "from model import MovieQuiz"
   ]
  }
 ],
 "metadata": {
  "language_info": {
   "name": "python"
  }
 },
 "nbformat": 4,
 "nbformat_minor": 2
}
